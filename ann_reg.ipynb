{
  "nbformat": 4,
  "nbformat_minor": 0,
  "metadata": {
    "colab": {
      "provenance": [],
      "collapsed_sections": [
        "uKK0NRj5NBje"
      ],
      "toc_visible": true
    },
    "kernelspec": {
      "name": "python3",
      "display_name": "Python 3"
    },
    "language_info": {
      "name": "python"
    }
  },
  "cells": [
    {
      "cell_type": "markdown",
      "source": [
        "# **Import Libraries**"
      ],
      "metadata": {
        "id": "uKK0NRj5NBje"
      }
    },
    {
      "cell_type": "code",
      "source": [
        "import numpy as np\n",
        "import pandas as pd\n",
        "import tensorflow as tf\n",
        "import seaborn as sns\n",
        "import matplotlib.pyplot as plt\n",
        "from sklearn.model_selection import train_test_split"
      ],
      "metadata": {
        "id": "AzopL58NNFuG"
      },
      "execution_count": 55,
      "outputs": []
    },
    {
      "cell_type": "markdown",
      "source": [
        "# **Import the data**"
      ],
      "metadata": {
        "id": "NS_FIh4MNUS9"
      }
    },
    {
      "cell_type": "code",
      "source": [
        "data = pd.read_csv(\"/content/ann_reg.csv\")"
      ],
      "metadata": {
        "id": "phY5mKIiNXmh"
      },
      "execution_count": 56,
      "outputs": []
    },
    {
      "cell_type": "markdown",
      "source": [
        "# **pre-processing**"
      ],
      "metadata": {
        "id": "VkAGYMxIPO5-"
      }
    },
    {
      "cell_type": "markdown",
      "source": [
        "## Let's look at the data"
      ],
      "metadata": {
        "id": "bJh162VKPXNV"
      }
    },
    {
      "cell_type": "code",
      "source": [
        "data.head()"
      ],
      "metadata": {
        "colab": {
          "base_uri": "https://localhost:8080/",
          "height": 0
        },
        "id": "2rKT4_V9PcwI",
        "outputId": "31b3362e-1e57-4add-b600-3e3a4f5d2639"
      },
      "execution_count": 57,
      "outputs": [
        {
          "output_type": "execute_result",
          "data": {
            "text/plain": [
              "      AT      V       AP     RH      PE\n",
              "0  14.96  41.76  1024.07  73.17  463.26\n",
              "1  25.18  62.96  1020.04  59.08  444.37\n",
              "2   5.11   39.4  1012.16  92.14  488.56\n",
              "3  20.86  57.32  1010.24  76.64  446.48\n",
              "4  10.82   37.5  1009.23  96.62   473.9"
            ],
            "text/html": [
              "\n",
              "  <div id=\"df-f5ea4a80-4c12-400f-8c32-b3f17b38e2ee\">\n",
              "    <div class=\"colab-df-container\">\n",
              "      <div>\n",
              "<style scoped>\n",
              "    .dataframe tbody tr th:only-of-type {\n",
              "        vertical-align: middle;\n",
              "    }\n",
              "\n",
              "    .dataframe tbody tr th {\n",
              "        vertical-align: top;\n",
              "    }\n",
              "\n",
              "    .dataframe thead th {\n",
              "        text-align: right;\n",
              "    }\n",
              "</style>\n",
              "<table border=\"1\" class=\"dataframe\">\n",
              "  <thead>\n",
              "    <tr style=\"text-align: right;\">\n",
              "      <th></th>\n",
              "      <th>AT</th>\n",
              "      <th>V</th>\n",
              "      <th>AP</th>\n",
              "      <th>RH</th>\n",
              "      <th>PE</th>\n",
              "    </tr>\n",
              "  </thead>\n",
              "  <tbody>\n",
              "    <tr>\n",
              "      <th>0</th>\n",
              "      <td>14.96</td>\n",
              "      <td>41.76</td>\n",
              "      <td>1024.07</td>\n",
              "      <td>73.17</td>\n",
              "      <td>463.26</td>\n",
              "    </tr>\n",
              "    <tr>\n",
              "      <th>1</th>\n",
              "      <td>25.18</td>\n",
              "      <td>62.96</td>\n",
              "      <td>1020.04</td>\n",
              "      <td>59.08</td>\n",
              "      <td>444.37</td>\n",
              "    </tr>\n",
              "    <tr>\n",
              "      <th>2</th>\n",
              "      <td>5.11</td>\n",
              "      <td>39.4</td>\n",
              "      <td>1012.16</td>\n",
              "      <td>92.14</td>\n",
              "      <td>488.56</td>\n",
              "    </tr>\n",
              "    <tr>\n",
              "      <th>3</th>\n",
              "      <td>20.86</td>\n",
              "      <td>57.32</td>\n",
              "      <td>1010.24</td>\n",
              "      <td>76.64</td>\n",
              "      <td>446.48</td>\n",
              "    </tr>\n",
              "    <tr>\n",
              "      <th>4</th>\n",
              "      <td>10.82</td>\n",
              "      <td>37.5</td>\n",
              "      <td>1009.23</td>\n",
              "      <td>96.62</td>\n",
              "      <td>473.9</td>\n",
              "    </tr>\n",
              "  </tbody>\n",
              "</table>\n",
              "</div>\n",
              "      <button class=\"colab-df-convert\" onclick=\"convertToInteractive('df-f5ea4a80-4c12-400f-8c32-b3f17b38e2ee')\"\n",
              "              title=\"Convert this dataframe to an interactive table.\"\n",
              "              style=\"display:none;\">\n",
              "        \n",
              "  <svg xmlns=\"http://www.w3.org/2000/svg\" height=\"24px\"viewBox=\"0 0 24 24\"\n",
              "       width=\"24px\">\n",
              "    <path d=\"M0 0h24v24H0V0z\" fill=\"none\"/>\n",
              "    <path d=\"M18.56 5.44l.94 2.06.94-2.06 2.06-.94-2.06-.94-.94-2.06-.94 2.06-2.06.94zm-11 1L8.5 8.5l.94-2.06 2.06-.94-2.06-.94L8.5 2.5l-.94 2.06-2.06.94zm10 10l.94 2.06.94-2.06 2.06-.94-2.06-.94-.94-2.06-.94 2.06-2.06.94z\"/><path d=\"M17.41 7.96l-1.37-1.37c-.4-.4-.92-.59-1.43-.59-.52 0-1.04.2-1.43.59L10.3 9.45l-7.72 7.72c-.78.78-.78 2.05 0 2.83L4 21.41c.39.39.9.59 1.41.59.51 0 1.02-.2 1.41-.59l7.78-7.78 2.81-2.81c.8-.78.8-2.07 0-2.86zM5.41 20L4 18.59l7.72-7.72 1.47 1.35L5.41 20z\"/>\n",
              "  </svg>\n",
              "      </button>\n",
              "      \n",
              "  <style>\n",
              "    .colab-df-container {\n",
              "      display:flex;\n",
              "      flex-wrap:wrap;\n",
              "      gap: 12px;\n",
              "    }\n",
              "\n",
              "    .colab-df-convert {\n",
              "      background-color: #E8F0FE;\n",
              "      border: none;\n",
              "      border-radius: 50%;\n",
              "      cursor: pointer;\n",
              "      display: none;\n",
              "      fill: #1967D2;\n",
              "      height: 32px;\n",
              "      padding: 0 0 0 0;\n",
              "      width: 32px;\n",
              "    }\n",
              "\n",
              "    .colab-df-convert:hover {\n",
              "      background-color: #E2EBFA;\n",
              "      box-shadow: 0px 1px 2px rgba(60, 64, 67, 0.3), 0px 1px 3px 1px rgba(60, 64, 67, 0.15);\n",
              "      fill: #174EA6;\n",
              "    }\n",
              "\n",
              "    [theme=dark] .colab-df-convert {\n",
              "      background-color: #3B4455;\n",
              "      fill: #D2E3FC;\n",
              "    }\n",
              "\n",
              "    [theme=dark] .colab-df-convert:hover {\n",
              "      background-color: #434B5C;\n",
              "      box-shadow: 0px 1px 3px 1px rgba(0, 0, 0, 0.15);\n",
              "      filter: drop-shadow(0px 1px 2px rgba(0, 0, 0, 0.3));\n",
              "      fill: #FFFFFF;\n",
              "    }\n",
              "  </style>\n",
              "\n",
              "      <script>\n",
              "        const buttonEl =\n",
              "          document.querySelector('#df-f5ea4a80-4c12-400f-8c32-b3f17b38e2ee button.colab-df-convert');\n",
              "        buttonEl.style.display =\n",
              "          google.colab.kernel.accessAllowed ? 'block' : 'none';\n",
              "\n",
              "        async function convertToInteractive(key) {\n",
              "          const element = document.querySelector('#df-f5ea4a80-4c12-400f-8c32-b3f17b38e2ee');\n",
              "          const dataTable =\n",
              "            await google.colab.kernel.invokeFunction('convertToInteractive',\n",
              "                                                     [key], {});\n",
              "          if (!dataTable) return;\n",
              "\n",
              "          const docLinkHtml = 'Like what you see? Visit the ' +\n",
              "            '<a target=\"_blank\" href=https://colab.research.google.com/notebooks/data_table.ipynb>data table notebook</a>'\n",
              "            + ' to learn more about interactive tables.';\n",
              "          element.innerHTML = '';\n",
              "          dataTable['output_type'] = 'display_data';\n",
              "          await google.colab.output.renderOutput(dataTable, element);\n",
              "          const docLink = document.createElement('div');\n",
              "          docLink.innerHTML = docLinkHtml;\n",
              "          element.appendChild(docLink);\n",
              "        }\n",
              "      </script>\n",
              "    </div>\n",
              "  </div>\n",
              "  "
            ]
          },
          "metadata": {},
          "execution_count": 57
        }
      ]
    },
    {
      "cell_type": "code",
      "source": [
        "data.info()"
      ],
      "metadata": {
        "colab": {
          "base_uri": "https://localhost:8080/"
        },
        "id": "BlbmU0uLPjdK",
        "outputId": "27391ab6-9c17-4547-fb0c-7cb589340997"
      },
      "execution_count": 58,
      "outputs": [
        {
          "output_type": "stream",
          "name": "stdout",
          "text": [
            "<class 'pandas.core.frame.DataFrame'>\n",
            "RangeIndex: 47844 entries, 0 to 47843\n",
            "Data columns (total 5 columns):\n",
            " #   Column  Non-Null Count  Dtype \n",
            "---  ------  --------------  ----- \n",
            " 0   AT      47844 non-null  object\n",
            " 1   V       47844 non-null  object\n",
            " 2   AP      47844 non-null  object\n",
            " 3   RH      47844 non-null  object\n",
            " 4   PE      47844 non-null  object\n",
            "dtypes: object(5)\n",
            "memory usage: 1.8+ MB\n"
          ]
        }
      ]
    },
    {
      "cell_type": "markdown",
      "source": [
        "**As we see in the data have object data type so we should now witch indices make the dataframe type change**"
      ],
      "metadata": {
        "id": "jkhucrCpT9Ma"
      }
    },
    {
      "cell_type": "markdown",
      "source": [
        "## handling the missing value"
      ],
      "metadata": {
        "id": "emZlHzZPXGrC"
      }
    },
    {
      "cell_type": "code",
      "source": [
        "string_indices = {}\n",
        "\n",
        "for col in data.columns:\n",
        "    column_numeric = pd.to_numeric(data[col], errors='coerce' )\n",
        "    string_indices[col] = np.where(column_numeric.isna())[0]\n",
        "\n",
        "print(string_indices)"
      ],
      "metadata": {
        "colab": {
          "base_uri": "https://localhost:8080/"
        },
        "id": "fPJu2WYST2qK",
        "outputId": "dc1d6ac5-7798-4111-ec76-0b07911ef714"
      },
      "execution_count": 59,
      "outputs": [
        {
          "output_type": "stream",
          "name": "stdout",
          "text": [
            "{'AT': array([ 9568, 19137, 28706, 38275]), 'V': array([ 9568, 19137, 28706, 38275]), 'AP': array([ 9568, 19137, 28706, 38275]), 'RH': array([ 9568, 19137, 28706, 38275]), 'PE': array([ 9568, 19137, 28706, 38275])}\n"
          ]
        }
      ]
    },
    {
      "cell_type": "code",
      "source": [
        "for col, indices in string_indices.items():\n",
        "    indices_to_drop = [idx for idx in indices if idx in data.index]\n",
        "    data = data.drop(indices_to_drop)"
      ],
      "metadata": {
        "id": "sLXz4Z6wV4W0"
      },
      "execution_count": 60,
      "outputs": []
    },
    {
      "cell_type": "code",
      "source": [
        "data = data.astype('float32')"
      ],
      "metadata": {
        "id": "T8miHGlNW_y5"
      },
      "execution_count": 61,
      "outputs": []
    },
    {
      "cell_type": "code",
      "source": [
        "data.info()"
      ],
      "metadata": {
        "colab": {
          "base_uri": "https://localhost:8080/"
        },
        "id": "LREQi20EXC4S",
        "outputId": "dfd2fc53-b6de-4869-ea56-9c3713b162aa"
      },
      "execution_count": 62,
      "outputs": [
        {
          "output_type": "stream",
          "name": "stdout",
          "text": [
            "<class 'pandas.core.frame.DataFrame'>\n",
            "Int64Index: 47840 entries, 0 to 47843\n",
            "Data columns (total 5 columns):\n",
            " #   Column  Non-Null Count  Dtype  \n",
            "---  ------  --------------  -----  \n",
            " 0   AT      47840 non-null  float32\n",
            " 1   V       47840 non-null  float32\n",
            " 2   AP      47840 non-null  float32\n",
            " 3   RH      47840 non-null  float32\n",
            " 4   PE      47840 non-null  float32\n",
            "dtypes: float32(5)\n",
            "memory usage: 1.3 MB\n"
          ]
        }
      ]
    },
    {
      "cell_type": "markdown",
      "source": [
        "## NAN value"
      ],
      "metadata": {
        "id": "KJxLkJcNXTJY"
      }
    },
    {
      "cell_type": "code",
      "source": [
        "data.isna().sum()"
      ],
      "metadata": {
        "colab": {
          "base_uri": "https://localhost:8080/"
        },
        "id": "2jjaydiBXWth",
        "outputId": "dcb05686-a83d-4ef7-a4b7-c1fdbff8193e"
      },
      "execution_count": 63,
      "outputs": [
        {
          "output_type": "execute_result",
          "data": {
            "text/plain": [
              "AT    0\n",
              "V     0\n",
              "AP    0\n",
              "RH    0\n",
              "PE    0\n",
              "dtype: int64"
            ]
          },
          "metadata": {},
          "execution_count": 63
        }
      ]
    },
    {
      "cell_type": "code",
      "source": [
        "sns.heatmap(data.isna())"
      ],
      "metadata": {
        "colab": {
          "base_uri": "https://localhost:8080/",
          "height": 0
        },
        "id": "DH73Y2rwXaWo",
        "outputId": "7a138231-9be8-47e6-a4ff-d849a6c9f0b0"
      },
      "execution_count": 64,
      "outputs": [
        {
          "output_type": "execute_result",
          "data": {
            "text/plain": [
              "<Axes: >"
            ]
          },
          "metadata": {},
          "execution_count": 64
        },
        {
          "output_type": "display_data",
          "data": {
            "text/plain": [
              "<Figure size 640x480 with 2 Axes>"
            ],
            "image/png": "[encoded data removed]"
          },
          "metadata": {}
        }
      ]
    },
    {
      "cell_type": "markdown",
      "source": [
        "# **Split The Data**"
      ],
      "metadata": {
        "id": "NdUBLUuGX8he"
      }
    },
    {
      "cell_type": "code",
      "source": [
        "X = data.drop(columns = \"PE\" , axis = 1).values\n",
        "y = data[\"PE\"].values"
      ],
      "metadata": {
        "id": "SKw1OFYTYBLc"
      },
      "execution_count": 65,
      "outputs": []
    },
    {
      "cell_type": "code",
      "source": [
        "X_train, X_test, y_train, y_test = train_test_split(X, y, test_size=0.2, random_state=42)"
      ],
      "metadata": {
        "id": "f3AYT4LWYSTV"
      },
      "execution_count": 66,
      "outputs": []
    },
    {
      "cell_type": "markdown",
      "source": [
        "# Bulding ANN"
      ],
      "metadata": {
        "id": "efYCO8ElfIyt"
      }
    },
    {
      "cell_type": "code",
      "source": [
        "ann = tf.keras.models.Sequential()"
      ],
      "metadata": {
        "id": "6TYXVG6xfMN1"
      },
      "execution_count": 67,
      "outputs": []
    },
    {
      "cell_type": "code",
      "source": [
        "ann.add(tf.keras.layers.Dense(units = 6  , activation=\"relu\"))"
      ],
      "metadata": {
        "id": "9Li1UwYIfXxd"
      },
      "execution_count": 68,
      "outputs": []
    },
    {
      "cell_type": "code",
      "source": [
        "ann.add(tf.keras.layers.Dense(units = 6  , activation=\"relu\"))"
      ],
      "metadata": {
        "id": "De5abtbcfpBf"
      },
      "execution_count": 69,
      "outputs": []
    },
    {
      "cell_type": "code",
      "source": [
        "ann.add(tf.keras.layers.Dense(units = 1))"
      ],
      "metadata": {
        "id": "A8W15Vsjfo_3"
      },
      "execution_count": 70,
      "outputs": []
    },
    {
      "cell_type": "code",
      "source": [
        "ann.compile(optimizer=\"adam\" , loss = \"mean_squared_error\")"
      ],
      "metadata": {
        "id": "MAcO8fSnfo9m"
      },
      "execution_count": 71,
      "outputs": []
    },
    {
      "cell_type": "code",
      "source": [
        "ann.fit(X_train , y_train , batch_size = 32 , epochs = 100)"
      ],
      "metadata": {
        "colab": {
          "base_uri": "https://localhost:8080/"
        },
        "id": "YqFG3QbFfo7D",
        "outputId": "885b0b8a-76fd-4489-b4f4-0799ea5b94ab"
      },
      "execution_count": 72,
      "outputs": [
        {
          "output_type": "stream",
          "name": "stdout",
          "text": [
            "Epoch 1/100\n",
            "1196/1196 [==============================] - 3s 2ms/step - loss: 5523.2920\n",
            "Epoch 2/100\n",
            "1196/1196 [==============================] - 2s 2ms/step - loss: 159.3270\n",
            "Epoch 3/100\n",
            "1196/1196 [==============================] - 2s 2ms/step - loss: 37.9716\n",
            "Epoch 4/100\n",
            "1196/1196 [==============================] - 2s 2ms/step - loss: 30.5772\n",
            "Epoch 5/100\n",
            "1196/1196 [==============================] - 2s 2ms/step - loss: 28.7647\n",
            "Epoch 6/100\n",
            "1196/1196 [==============================] - 2s 2ms/step - loss: 29.5862\n",
            "Epoch 7/100\n",
            "1196/1196 [==============================] - 2s 2ms/step - loss: 28.3174\n",
            "Epoch 8/100\n",
            "1196/1196 [==============================] - 2s 2ms/step - loss: 28.3394\n",
            "Epoch 9/100\n",
            "1196/1196 [==============================] - 2s 2ms/step - loss: 28.3785\n",
            "Epoch 10/100\n",
            "1196/1196 [==============================] - 2s 2ms/step - loss: 28.3925\n",
            "Epoch 11/100\n",
            "1196/1196 [==============================] - 2s 2ms/step - loss: 28.0879\n",
            "Epoch 12/100\n",
            "1196/1196 [==============================] - 2s 2ms/step - loss: 28.1065\n",
            "Epoch 13/100\n",
            "1196/1196 [==============================] - 3s 2ms/step - loss: 28.6021\n",
            "Epoch 14/100\n",
            "1196/1196 [==============================] - 2s 2ms/step - loss: 28.1681\n",
            "Epoch 15/100\n",
            "1196/1196 [==============================] - 2s 2ms/step - loss: 28.3870\n",
            "Epoch 16/100\n",
            "1196/1196 [==============================] - 2s 2ms/step - loss: 28.5160\n",
            "Epoch 17/100\n",
            "1196/1196 [==============================] - 2s 2ms/step - loss: 28.3073\n",
            "Epoch 18/100\n",
            "1196/1196 [==============================] - 2s 2ms/step - loss: 27.7804\n",
            "Epoch 19/100\n",
            "1196/1196 [==============================] - 3s 2ms/step - loss: 28.1995\n",
            "Epoch 20/100\n",
            "1196/1196 [==============================] - 2s 2ms/step - loss: 28.0024\n",
            "Epoch 21/100\n",
            "1196/1196 [==============================] - 2s 2ms/step - loss: 28.0839\n",
            "Epoch 22/100\n",
            "1196/1196 [==============================] - 4s 3ms/step - loss: 27.6173\n",
            "Epoch 23/100\n",
            "1196/1196 [==============================] - 2s 2ms/step - loss: 28.1176\n",
            "Epoch 24/100\n",
            "1196/1196 [==============================] - 3s 3ms/step - loss: 28.1558\n",
            "Epoch 25/100\n",
            "1196/1196 [==============================] - 2s 2ms/step - loss: 27.8910\n",
            "Epoch 26/100\n",
            "1196/1196 [==============================] - 6s 5ms/step - loss: 28.4915\n",
            "Epoch 27/100\n",
            "1196/1196 [==============================] - 6s 5ms/step - loss: 28.1297\n",
            "Epoch 28/100\n",
            "1196/1196 [==============================] - 2s 2ms/step - loss: 27.9986\n",
            "Epoch 29/100\n",
            "1196/1196 [==============================] - 2s 2ms/step - loss: 28.4228\n",
            "Epoch 30/100\n",
            "1196/1196 [==============================] - 2s 2ms/step - loss: 27.6593\n",
            "Epoch 31/100\n",
            "1196/1196 [==============================] - 2s 2ms/step - loss: 28.2202\n",
            "Epoch 32/100\n",
            "1196/1196 [==============================] - 2s 2ms/step - loss: 27.8238\n",
            "Epoch 33/100\n",
            "1196/1196 [==============================] - 3s 2ms/step - loss: 28.0563\n",
            "Epoch 34/100\n",
            "1196/1196 [==============================] - 2s 2ms/step - loss: 27.5430\n",
            "Epoch 35/100\n",
            "1196/1196 [==============================] - 2s 2ms/step - loss: 27.7804\n",
            "Epoch 36/100\n",
            "1196/1196 [==============================] - 2s 2ms/step - loss: 27.9551\n",
            "Epoch 37/100\n",
            "1196/1196 [==============================] - 2s 2ms/step - loss: 27.6550\n",
            "Epoch 38/100\n",
            "1196/1196 [==============================] - 2s 2ms/step - loss: 27.7409\n",
            "Epoch 39/100\n",
            "1196/1196 [==============================] - 3s 2ms/step - loss: 27.7666\n",
            "Epoch 40/100\n",
            "1196/1196 [==============================] - 2s 2ms/step - loss: 27.8839\n",
            "Epoch 41/100\n",
            "1196/1196 [==============================] - 2s 2ms/step - loss: 28.2147\n",
            "Epoch 42/100\n",
            "1196/1196 [==============================] - 2s 2ms/step - loss: 27.5801\n",
            "Epoch 43/100\n",
            "1196/1196 [==============================] - 2s 2ms/step - loss: 27.5754\n",
            "Epoch 44/100\n",
            "1196/1196 [==============================] - 2s 2ms/step - loss: 27.7758\n",
            "Epoch 45/100\n",
            "1196/1196 [==============================] - 3s 2ms/step - loss: 27.8279\n",
            "Epoch 46/100\n",
            "1196/1196 [==============================] - 2s 2ms/step - loss: 28.1700\n",
            "Epoch 47/100\n",
            "1196/1196 [==============================] - 2s 2ms/step - loss: 28.2644\n",
            "Epoch 48/100\n",
            "1196/1196 [==============================] - 2s 2ms/step - loss: 27.4162\n",
            "Epoch 49/100\n",
            "1196/1196 [==============================] - 2s 2ms/step - loss: 27.6598\n",
            "Epoch 50/100\n",
            "1196/1196 [==============================] - 2s 2ms/step - loss: 27.7551\n",
            "Epoch 51/100\n",
            "1196/1196 [==============================] - 3s 2ms/step - loss: 27.6385\n",
            "Epoch 52/100\n",
            "1196/1196 [==============================] - 2s 2ms/step - loss: 27.8041\n",
            "Epoch 53/100\n",
            "1196/1196 [==============================] - 2s 2ms/step - loss: 27.6104\n",
            "Epoch 54/100\n",
            "1196/1196 [==============================] - 2s 2ms/step - loss: 27.5514\n",
            "Epoch 55/100\n",
            "1196/1196 [==============================] - 2s 2ms/step - loss: 27.6554\n",
            "Epoch 56/100\n",
            "1196/1196 [==============================] - 2s 2ms/step - loss: 27.4618\n",
            "Epoch 57/100\n",
            "1196/1196 [==============================] - 3s 2ms/step - loss: 27.3984\n",
            "Epoch 58/100\n",
            "1196/1196 [==============================] - 2s 2ms/step - loss: 27.4675\n",
            "Epoch 59/100\n",
            "1196/1196 [==============================] - 2s 2ms/step - loss: 27.3292\n",
            "Epoch 60/100\n",
            "1196/1196 [==============================] - 2s 2ms/step - loss: 27.6306\n",
            "Epoch 61/100\n",
            "1196/1196 [==============================] - 2s 2ms/step - loss: 27.1009\n",
            "Epoch 62/100\n",
            "1196/1196 [==============================] - 2s 2ms/step - loss: 27.4006\n",
            "Epoch 63/100\n",
            "1196/1196 [==============================] - 2s 2ms/step - loss: 27.3482\n",
            "Epoch 64/100\n",
            "1196/1196 [==============================] - 2s 2ms/step - loss: 27.3389\n",
            "Epoch 65/100\n",
            "1196/1196 [==============================] - 2s 2ms/step - loss: 27.6894\n",
            "Epoch 66/100\n",
            "1196/1196 [==============================] - 2s 2ms/step - loss: 27.1301\n",
            "Epoch 67/100\n",
            "1196/1196 [==============================] - 2s 2ms/step - loss: 27.5022\n",
            "Epoch 68/100\n",
            "1196/1196 [==============================] - 2s 2ms/step - loss: 27.4349\n",
            "Epoch 69/100\n",
            "1196/1196 [==============================] - 4s 3ms/step - loss: 27.0836\n",
            "Epoch 70/100\n",
            "1196/1196 [==============================] - 2s 2ms/step - loss: 27.1119\n",
            "Epoch 71/100\n",
            "1196/1196 [==============================] - 2s 2ms/step - loss: 27.2033\n",
            "Epoch 72/100\n",
            "1196/1196 [==============================] - 2s 2ms/step - loss: 27.1185\n",
            "Epoch 73/100\n",
            "1196/1196 [==============================] - 2s 2ms/step - loss: 27.4925\n",
            "Epoch 74/100\n",
            "1196/1196 [==============================] - 2s 2ms/step - loss: 26.9073\n",
            "Epoch 75/100\n",
            "1196/1196 [==============================] - 3s 2ms/step - loss: 27.2272\n",
            "Epoch 76/100\n",
            "1196/1196 [==============================] - 2s 2ms/step - loss: 27.1729\n",
            "Epoch 77/100\n",
            "1196/1196 [==============================] - 2s 2ms/step - loss: 27.0226\n",
            "Epoch 78/100\n",
            "1196/1196 [==============================] - 2s 2ms/step - loss: 27.3558\n",
            "Epoch 79/100\n",
            "1196/1196 [==============================] - 2s 2ms/step - loss: 27.1041\n",
            "Epoch 80/100\n",
            "1196/1196 [==============================] - 2s 2ms/step - loss: 26.7761\n",
            "Epoch 81/100\n",
            "1196/1196 [==============================] - 3s 2ms/step - loss: 26.8452\n",
            "Epoch 82/100\n",
            "1196/1196 [==============================] - 2s 2ms/step - loss: 26.8867\n",
            "Epoch 83/100\n",
            "1196/1196 [==============================] - 2s 2ms/step - loss: 27.6482\n",
            "Epoch 84/100\n",
            "1196/1196 [==============================] - 2s 2ms/step - loss: 27.1989\n",
            "Epoch 85/100\n",
            "1196/1196 [==============================] - 2s 2ms/step - loss: 26.7918\n",
            "Epoch 86/100\n",
            "1196/1196 [==============================] - 2s 2ms/step - loss: 27.0929\n",
            "Epoch 87/100\n",
            "1196/1196 [==============================] - 3s 2ms/step - loss: 26.8227\n",
            "Epoch 88/100\n",
            "1196/1196 [==============================] - 2s 2ms/step - loss: 26.9563\n",
            "Epoch 89/100\n",
            "1196/1196 [==============================] - 2s 2ms/step - loss: 26.9471\n",
            "Epoch 90/100\n",
            "1196/1196 [==============================] - 2s 2ms/step - loss: 27.1945\n",
            "Epoch 91/100\n",
            "1196/1196 [==============================] - 2s 2ms/step - loss: 26.7797\n",
            "Epoch 92/100\n",
            "1196/1196 [==============================] - 2s 2ms/step - loss: 26.8392\n",
            "Epoch 93/100\n",
            "1196/1196 [==============================] - 3s 2ms/step - loss: 27.0207\n",
            "Epoch 94/100\n",
            "1196/1196 [==============================] - 2s 2ms/step - loss: 27.1427\n",
            "Epoch 95/100\n",
            "1196/1196 [==============================] - 2s 2ms/step - loss: 26.7523\n",
            "Epoch 96/100\n",
            "1196/1196 [==============================] - 2s 2ms/step - loss: 26.8062\n",
            "Epoch 97/100\n",
            "1196/1196 [==============================] - 2s 2ms/step - loss: 27.0227\n",
            "Epoch 98/100\n",
            "1196/1196 [==============================] - 2s 2ms/step - loss: 26.9809\n",
            "Epoch 99/100\n",
            "1196/1196 [==============================] - 3s 2ms/step - loss: 26.5165\n",
            "Epoch 100/100\n",
            "1196/1196 [==============================] - 2s 2ms/step - loss: 26.8277\n"
          ]
        },
        {
          "output_type": "execute_result",
          "data": {
            "text/plain": [
              "<keras.callbacks.History at 0x7f1b98b88460>"
            ]
          },
          "metadata": {},
          "execution_count": 72
        }
      ]
    }
  ]
}